{
 "cells": [
  {
   "cell_type": "markdown",
   "metadata": {},
   "source": [
    "# Câu hỏi tự luận\n",
    "## Câu 1"
   ]
  },
  {
   "cell_type": "code",
   "execution_count": 13,
   "metadata": {},
   "outputs": [
    {
     "name": "stdout",
     "output_type": "stream",
     "text": [
      "tensor([0., 0., nan])\n",
      "tensor([0., 0., 1.])\n"
     ]
    }
   ],
   "source": [
    "import torch\n",
    "import torch.nn as nn\n",
    "\n",
    "\n",
    "class Softmax(nn.Module):\n",
    "    def __init__(self, data):\n",
    "        super(Softmax, self).__init__()\n",
    "        self.data = data\n",
    "\n",
    "    def forward(self, x):\n",
    "        return torch.exp(x) / torch.sum(torch.exp(x), dim=0)\n",
    "\n",
    "\n",
    "class SoftmaxStable(nn.Module):\n",
    "    def __init__(self, data):\n",
    "        super(SoftmaxStable, self).__init__()\n",
    "        self.data = data\n",
    "\n",
    "    def forward(self, x):\n",
    "        numerator = x - torch.max(x)\n",
    "        return torch.exp(numerator) / torch.sum(torch.exp(numerator), dim=0)\n",
    "\n",
    "\n",
    "data = torch.Tensor([1, 2, 300000000])\n",
    "\n",
    "model = Softmax(data)\n",
    "output = model(data)\n",
    "print(output)\n",
    "\n",
    "model = SoftmaxStable(data)\n",
    "output = model(data)\n",
    "print(output)"
   ]
  },
  {
   "cell_type": "markdown",
   "metadata": {},
   "source": [
    "## Câu 2"
   ]
  },
  {
   "cell_type": "code",
   "execution_count": 14,
   "metadata": {},
   "outputs": [
    {
     "name": "stdout",
     "output_type": "stream",
     "text": [
      "Phường: Phường 1\n",
      "Danh sách người:\n",
      "\tTên: Nam\n",
      "\t\tNăm sinh: 1970\n",
      "\t\tMôn giảng dạy: Văn\n",
      "\tTên: Lan\n",
      "\t\tNăm sinh: 1980\n",
      "\t\tMôn giảng dạy: Toán\n",
      "\tTên: Chu\n",
      "\t\tNăm sinh: 1990\n",
      "\t\tChuyên môn: Nha\n",
      "\tTên: Hoa\n",
      "\t\tNăm sinh: 2000\n",
      "\t\tChuyên môn: Da liễu\n",
      "\tTên: Huy\n",
      "\t\tNăm sinh: 2005\n",
      "\t\tLớp: 12A1\n",
      "Số lượng bác sĩ trong Ward: 2\n",
      "Tuổi trung bình của giáo viên trong Ward: 1975.0\n"
     ]
    }
   ],
   "source": [
    "class Ward:\n",
    "    def __init__(self, name):\n",
    "        self.name = name\n",
    "        self.people = []\n",
    "\n",
    "    def add_person(self, person):\n",
    "        self.people.append(person)\n",
    "\n",
    "    def count_doctor(self):\n",
    "        count = 0\n",
    "        for person in self.people:\n",
    "            if isinstance(person, Doctor):\n",
    "                count += 1\n",
    "        return count\n",
    "\n",
    "    def sort_age(self) -> None:\n",
    "        self.people.sort(key=lambda x: x.yob)\n",
    "\n",
    "    def compute_average(self):\n",
    "        sum_value = 0\n",
    "        count = 0\n",
    "        for person in self.people:\n",
    "            if isinstance(person, Teacher):\n",
    "                sum_value += person.yob\n",
    "                count += 1\n",
    "        return sum_value / count\n",
    "\n",
    "    def describe(self):\n",
    "        print(f\"Phường: {self.name}\")\n",
    "        print(\"Danh sách người:\")\n",
    "        for person in self.people:\n",
    "            person.describe()\n",
    "\n",
    "\n",
    "class Person:\n",
    "    def __init__(self, name):\n",
    "        self.name = name\n",
    "\n",
    "    def describe(self):\n",
    "        print(f\"\\tTên: {self.name}\")\n",
    "\n",
    "\n",
    "class Student(Person):\n",
    "    def __init__(self, name, yob, grade):\n",
    "        super().__init__(name)\n",
    "        self.yob = yob\n",
    "        self.grade = grade\n",
    "\n",
    "    def describe(self):\n",
    "\n",
    "        super().describe()\n",
    "        print(f\"\\t\\tNăm sinh: {self.yob}\")\n",
    "        print(f\"\\t\\tLớp: {self.grade}\")\n",
    "\n",
    "\n",
    "class Teacher(Person):\n",
    "    def __init__(self, name, yob, subject):\n",
    "        super().__init__(name)\n",
    "        self.yob = yob\n",
    "        self.subject = subject\n",
    "\n",
    "    def describe(self):\n",
    "        super().describe()\n",
    "        print(f\"\\t\\tNăm sinh: {self.yob}\")\n",
    "        print(f\"\\t\\tMôn giảng dạy: {self.subject}\")\n",
    "\n",
    "\n",
    "class Doctor(Person):\n",
    "    def __init__(self, name, yob, specialist):\n",
    "        super().__init__(name)\n",
    "        self.yob = yob\n",
    "        self.specialist = specialist\n",
    "\n",
    "    def describe(self):\n",
    "        super().describe()\n",
    "        print(f\"\\t\\tNăm sinh: {self.yob}\")\n",
    "        print(f\"\\t\\tChuyên môn: {self.specialist}\")\n",
    "\n",
    "\n",
    "# Tạo một Ward và thêm người vào\n",
    "ward = Ward(\"Phường 1\")\n",
    "ward.add_person(Student(\"Huy\", 2005, \"12A1\"))\n",
    "ward.add_person(Teacher(\"Nam\", 1970, \"Văn\"))\n",
    "ward.add_person(Teacher(\"Lan\", 1980, \"Toán\"))\n",
    "ward.add_person(Doctor(\"Chu\", 1990, \"Nha\"))\n",
    "ward.add_person(Doctor(\"Hoa\", 2000, \"Da liễu\"))\n",
    "\n",
    "\n",
    "# In thông tin của mỗi người trong Ward\n",
    "# ward.describe()\n",
    "\n",
    "# Sắp xếp người theo tuổi\n",
    "ward.sort_age()\n",
    "ward.describe()\n",
    "\n",
    "# In số lượng bác sĩ trong Ward\n",
    "print(f\"Số lượng bác sĩ trong Ward: {ward.count_doctor()}\")\n",
    "\n",
    "# Tính tuổi trung bình của giáo viên trong Ward\n",
    "print(f\"Tuổi trung bình của giáo viên trong Ward: {ward.compute_average()}\")"
   ]
  },
  {
   "cell_type": "markdown",
   "metadata": {},
   "source": [
    "## Câu 3"
   ]
  },
  {
   "cell_type": "code",
   "execution_count": 15,
   "metadata": {},
   "outputs": [
    {
     "name": "stdout",
     "output_type": "stream",
     "text": [
      "False\n",
      "2\n",
      "2\n",
      "1\n",
      "1\n",
      "True\n"
     ]
    }
   ],
   "source": [
    "class Stack:\n",
    "    def __init__(self, capacity):\n",
    "        # https://stackoverflow.com/a/311833\n",
    "        # Dù có khởi tạo một danh sách rỗng trước cũng không tăng hiệu suất được bao nhiêu.\n",
    "        self.capacity = capacity\n",
    "        self.elements_list = []\n",
    "\n",
    "    def is_empty(self):\n",
    "        return len(self.elements_list) == 0\n",
    "    \n",
    "    def is_full(self):\n",
    "        return len(self.elements_list) == self.capacity\n",
    "    \n",
    "    def pop(self):\n",
    "        if self.is_empty():\n",
    "            return None\n",
    "        return self.elements_list.pop()\n",
    "    \n",
    "    def push(self, value):\n",
    "        if self.is_full():\n",
    "            return None\n",
    "        self.elements_list.append(value)\n",
    "\n",
    "    def top(self):\n",
    "        if self.is_empty():\n",
    "            return None\n",
    "        return self.elements_list[-1]\n",
    "    \n",
    "stack = Stack(5)\n",
    "\n",
    "stack.push(1)\n",
    "stack.push(2)\n",
    "\n",
    "print(stack.is_full())\n",
    "print(stack.top())\n",
    "print(stack.pop())\n",
    "print(stack.top())\n",
    "print(stack.pop())\n",
    "print(stack.is_empty())"
   ]
  },
  {
   "cell_type": "markdown",
   "metadata": {},
   "source": [
    "## Câu 4"
   ]
  },
  {
   "cell_type": "code",
   "execution_count": 16,
   "metadata": {},
   "outputs": [
    {
     "name": "stdout",
     "output_type": "stream",
     "text": [
      "False\n",
      "1\n",
      "1\n",
      "2\n",
      "2\n",
      "True\n"
     ]
    }
   ],
   "source": [
    "class Queue:\n",
    "    def __init__(self, capacity):\n",
    "        self.capacity = capacity\n",
    "        self.elements_list = []\n",
    "\n",
    "    def is_empty(self):\n",
    "        return len(self.elements_list) == 0\n",
    "    \n",
    "    def is_full(self):\n",
    "        return len(self.elements_list) == self.capacity\n",
    "    \n",
    "    def dequeue(self):\n",
    "        if self.is_empty():\n",
    "            return None\n",
    "        return self.elements_list.pop(0)\n",
    "    \n",
    "    def enqueue(self, value):\n",
    "        if self.is_full():\n",
    "            return None\n",
    "        self.elements_list.append(value)\n",
    "\n",
    "    def front(self):\n",
    "        if self.is_empty():\n",
    "            return None\n",
    "        return self.elements_list[0]\n",
    "    \n",
    "queue = Queue(5)\n",
    "\n",
    "queue.enqueue(1)\n",
    "queue.enqueue(2)\n",
    "\n",
    "print(queue.is_full())\n",
    "print(queue.front())\n",
    "print(queue.dequeue())\n",
    "print(queue.front())\n",
    "print(queue.dequeue())\n",
    "print(queue.is_empty())"
   ]
  },
  {
   "cell_type": "markdown",
   "metadata": {},
   "source": [
    "# Câu hỏi trắc nghiệm"
   ]
  }
 ],
 "metadata": {
  "kernelspec": {
   "display_name": "base",
   "language": "python",
   "name": "python3"
  },
  "language_info": {
   "codemirror_mode": {
    "name": "ipython",
    "version": 3
   },
   "file_extension": ".py",
   "mimetype": "text/x-python",
   "name": "python",
   "nbconvert_exporter": "python",
   "pygments_lexer": "ipython3",
   "version": "3.10.14"
  }
 },
 "nbformat": 4,
 "nbformat_minor": 2
}
