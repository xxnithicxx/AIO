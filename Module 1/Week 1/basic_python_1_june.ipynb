{
 "cells": [
  {
   "cell_type": "markdown",
   "metadata": {},
   "source": [
    "# Câu 1"
   ]
  },
  {
   "cell_type": "code",
   "execution_count": 2,
   "metadata": {},
   "outputs": [],
   "source": [
    "def exercise1(true_positive, false_positive, false_negative):\n",
    "    # Check if the input is valid\n",
    "    if type(true_positive) != int:\n",
    "        print(\"tp must be int\")\n",
    "        return None\n",
    "    \n",
    "    if type(false_positive) != int:\n",
    "        print(\"fp must be int\")\n",
    "        return None\n",
    "\n",
    "    if type(false_negative) != int:\n",
    "        print(\"fn must be int\")\n",
    "        return None\n",
    "\n",
    "    if true_positive < 0 or false_positive < 0 or false_negative < 0:\n",
    "        print(\"tp and fp and fn must be greater than zero\")\n",
    "        return None\n",
    "\n",
    "    # Calculate the precision, recall and f1 score\n",
    "    precision = true_positive / (true_positive + false_positive)\n",
    "    recall = true_positive / (true_positive + false_negative)\n",
    "    f1_score = 2 * (precision * recall) / (precision + recall)\n",
    "\n",
    "    print(\"Precision is \", precision)\n",
    "    print(\"Recall is \", recall)\n",
    "    print(\"F1 score is \", f1_score)    "
   ]
  },
  {
   "cell_type": "code",
   "execution_count": 3,
   "metadata": {},
   "outputs": [
    {
     "name": "stdout",
     "output_type": "stream",
     "text": [
      "Precision is  0.4\n",
      "Recall is  0.3333333333333333\n",
      "F1 score is  0.3636363636363636\n"
     ]
    }
   ],
   "source": [
    "exercise1(true_positive=2, false_positive=3, false_negative=4)"
   ]
  },
  {
   "cell_type": "markdown",
   "metadata": {},
   "source": [
    "# Câu 2"
   ]
  },
  {
   "cell_type": "code",
   "execution_count": 4,
   "metadata": {},
   "outputs": [],
   "source": [
    "# Given\n",
    "def is_number(n):\n",
    "    try:\n",
    "        float(n)  # Type - casting the string to ‘float‘.\n",
    "        # If string is not a valid ‘float‘,\n",
    "        # it’ll raise ‘ValueError‘ exception\n",
    "    except ValueError:\n",
    "        return False\n",
    "    return True"
   ]
  },
  {
   "cell_type": "code",
   "execution_count": 5,
   "metadata": {},
   "outputs": [],
   "source": [
    "import math\n",
    "\n",
    "def exercise2(x, activation_function):\n",
    "    # Check if the input is valid\n",
    "    if not is_number(x):\n",
    "        print(\"x must be a number\")\n",
    "        return\n",
    "    \n",
    "    if activation_function not in [\"relu\", \"sigmoid\", \"elu\"]:\n",
    "        print(f\"{activation_function} is not supported.\")\n",
    "        return\n",
    "    \n",
    "    # Convert x to float\n",
    "    x = float(x)\n",
    "\n",
    "    result = None\n",
    "    # Calculate the output\n",
    "    if activation_function == \"relu\":\n",
    "        if x > 0:\n",
    "            result = x\n",
    "        else:\n",
    "            result = 0\n",
    "    elif activation_function == \"sigmoid\":\n",
    "        result = 1 / (1 + math.exp(-x))\n",
    "    elif activation_function == \"elu\":\n",
    "        if x > 0:\n",
    "            result = x\n",
    "        else:\n",
    "            alpha = 0.01 # Given\n",
    "            result = alpha * (math.exp(x) - 1)\n",
    "\n",
    "    print(f\"{activation_function}: f({x}) = {result}\")"
   ]
  },
  {
   "cell_type": "code",
   "execution_count": 6,
   "metadata": {},
   "outputs": [
    {
     "name": "stdout",
     "output_type": "stream",
     "text": [
      "sigmoid: f(1.5) = 0.8175744761936437\n",
      "relu: f(-1.5) = 0\n",
      "elu: f(-1.5) = -0.007768698398515702\n"
     ]
    }
   ],
   "source": [
    "exercise2(x=1.5, activation_function=\"sigmoid\")\n",
    "exercise2(x=-1.5, activation_function=\"relu\")\n",
    "exercise2(x=-1.5, activation_function=\"elu\")"
   ]
  },
  {
   "cell_type": "markdown",
   "metadata": {},
   "source": [
    "# Câu 3"
   ]
  },
  {
   "cell_type": "code",
   "execution_count": 7,
   "metadata": {},
   "outputs": [],
   "source": [
    "import random\n",
    "\n",
    "def exercise3(num_samples, loss_name):\n",
    "    # Check if the input is valid\n",
    "    if not num_samples.isnumeric():\n",
    "        print(\"number of samples must be an integer number\")\n",
    "        return\n",
    "    \n",
    "    num_samples = int(num_samples)\n",
    "    if num_samples < 0:\n",
    "        print(\"num_samples must be greater than zero\")\n",
    "        return\n",
    "    \n",
    "    if loss_name not in [\"mae\", \"mse\", \"rmse\"]:\n",
    "        print(f\"{loss_name} is not supported.\")\n",
    "        return\n",
    "    \n",
    "    for i in range(num_samples):\n",
    "        # Generate random samples\n",
    "        y_true = random.uniform(0, 10)\n",
    "        y_pred = random.uniform(0, 10)\n",
    "\n",
    "        # Calculate the loss\n",
    "        if loss_name == \"mae\":\n",
    "            loss = abs(y_true - y_pred)\n",
    "        elif loss_name == \"mse\":\n",
    "            loss = (y_true - y_pred) ** 2\n",
    "        elif loss_name == \"rmse\":\n",
    "            loss = math.sqrt((y_true - y_pred) ** 2)\n",
    "\n",
    "        print(f\"loss name: {loss_name}, sample: {i}, predicted: {y_pred}, target: {y_true}, loss: {loss}\")\n"
   ]
  },
  {
   "cell_type": "code",
   "execution_count": 8,
   "metadata": {},
   "outputs": [
    {
     "name": "stdout",
     "output_type": "stream",
     "text": [
      "loss name: mae, sample: 0, predicted: 9.817543670503914, target: 1.047189147307107, loss: 8.770354523196808\n",
      "loss name: mae, sample: 1, predicted: 4.5551252409836955, target: 4.724948277003068, loss: 0.16982303601937243\n",
      "loss name: mae, sample: 2, predicted: 0.9288518485371566, target: 0.14107295517964524, loss: 0.7877788933575114\n",
      "loss name: mae, sample: 3, predicted: 5.178523602521505, target: 1.6637654504382104, loss: 3.5147581520832945\n",
      "loss name: mae, sample: 4, predicted: 9.355859516356809, target: 7.142928177178164, loss: 2.2129313391786445\n"
     ]
    }
   ],
   "source": [
    "exercise3(num_samples=\"5\", loss_name=\"mae\")"
   ]
  },
  {
   "cell_type": "markdown",
   "metadata": {},
   "source": [
    "# Câu 4"
   ]
  },
  {
   "cell_type": "code",
   "execution_count": 9,
   "metadata": {},
   "outputs": [],
   "source": [
    "def approx_sin(x, number_samples):\n",
    "    result = 0\n",
    "    for i in range(number_samples + 1):\n",
    "        sign = (-1) ** i\n",
    "        num = x ** (2 * i + 1)\n",
    "        denom = math.factorial(2 * i + 1)\n",
    "        result += sign * num / denom\n",
    "    \n",
    "    return result\n",
    "\n",
    "def approx_cos(x, number_samples):\n",
    "    result = 0\n",
    "    for i in range(number_samples + 1):\n",
    "        sign = (-1) ** i\n",
    "        num = x ** (2 * i)\n",
    "        denom = math.factorial(2 * i)\n",
    "        result += sign * num / denom\n",
    "    \n",
    "    return result\n",
    "\n",
    "def approx_sinh(x, number_samples):\n",
    "    result = 0\n",
    "    for i in range(number_samples + 1):\n",
    "        num = x ** (2 * i + 1)\n",
    "        denom = math.factorial(2 * i + 1)\n",
    "        result += num / denom\n",
    "    \n",
    "    return result\n",
    "\n",
    "def approx_cosh(x, number_samples):\n",
    "    result = 0\n",
    "    for i in range(number_samples + 1):\n",
    "        num = x ** (2 * i)\n",
    "        denom = math.factorial(2 * i)\n",
    "        result += num / denom\n",
    "    \n",
    "    return result\n",
    "\n",
    "def exercise4(x, number_samples):\n",
    "    if number_samples < 0:\n",
    "        print(\"n must be greater than zero\")\n",
    "        return\n",
    "    \n",
    "    approx_sin_value = approx_sin(x, number_samples)\n",
    "    approx_cos_value = approx_cos(x, number_samples)\n",
    "    approx_sinh_value = approx_sinh(x, number_samples)\n",
    "    approx_cosh_value = approx_cosh(x, number_samples)\n",
    "\n",
    "    print(f\"sin({x}) = {approx_sin_value}\")\n",
    "    print(f\"cos({x}) = {approx_cos_value}\")\n",
    "    print(f\"sinh({x}) = {approx_sinh_value}\")\n",
    "    print(f\"cosh({x}) = {approx_cosh_value}\")"
   ]
  },
  {
   "cell_type": "code",
   "execution_count": 10,
   "metadata": {},
   "outputs": [
    {
     "name": "stdout",
     "output_type": "stream",
     "text": [
      "sin(3.14) = 0.0015926529267151343\n",
      "cos(3.14) = -0.9999987316527259\n",
      "sinh(3.14) = 11.53029203039954\n",
      "cosh(3.14) = 11.573574828234543\n"
     ]
    }
   ],
   "source": [
    "exercise4(x=3.14, number_samples=10)"
   ]
  },
  {
   "cell_type": "markdown",
   "metadata": {},
   "source": [
    "# Câu 5"
   ]
  },
  {
   "cell_type": "code",
   "execution_count": 11,
   "metadata": {},
   "outputs": [],
   "source": [
    "def exercise5(y, y_hat, n, p):\n",
    "    # Calculate Mean Difference of nth root error\n",
    "    left = math.pow(y, 1.0 / n) # nth root of y = y^(1/n)\n",
    "    right = math.pow(y_hat, 1.0 / n)\n",
    "    return math.pow(left - right, p)"
   ]
  },
  {
   "cell_type": "code",
   "execution_count": 12,
   "metadata": {},
   "outputs": [
    {
     "data": {
      "text/plain": [
       "0.025031328369998107"
      ]
     },
     "execution_count": 12,
     "metadata": {},
     "output_type": "execute_result"
    }
   ],
   "source": [
    "exercise5(y=100, y_hat=99.5, n=2, p=1)"
   ]
  },
  {
   "cell_type": "markdown",
   "metadata": {},
   "source": [
    "# Trắc nghiệm"
   ]
  },
  {
   "cell_type": "code",
   "execution_count": 13,
   "metadata": {},
   "outputs": [
    {
     "name": "stdout",
     "output_type": "stream",
     "text": [
      "Precision is  0.4\n",
      "Recall is  0.2857142857142857\n",
      "F1 score is  0.3333333333333333\n"
     ]
    },
    {
     "data": {
      "text/plain": [
       "0.33"
      ]
     },
     "execution_count": 13,
     "metadata": {},
     "output_type": "execute_result"
    }
   ],
   "source": [
    "exercise1(2, 3, 5)\n",
    "round(0.3333333333333333, 2)"
   ]
  },
  {
   "cell_type": "code",
   "execution_count": 14,
   "metadata": {},
   "outputs": [
    {
     "name": "stdout",
     "output_type": "stream",
     "text": [
      "True\n",
      "False\n"
     ]
    }
   ],
   "source": [
    "print(is_number(3))\n",
    "print(is_number(\"-2a\"))"
   ]
  },
  {
   "cell_type": "code",
   "execution_count": 15,
   "metadata": {},
   "outputs": [
    {
     "name": "stdout",
     "output_type": "stream",
     "text": [
      "sigmoid: f(2.0) = 0.8807970779778823\n"
     ]
    },
    {
     "data": {
      "text/plain": [
       "0.88"
      ]
     },
     "execution_count": 15,
     "metadata": {},
     "output_type": "execute_result"
    }
   ],
   "source": [
    "exercise2(x=2, activation_function=\"sigmoid\")\n",
    "round(0.8807970779778823, 2)"
   ]
  },
  {
   "cell_type": "code",
   "execution_count": 16,
   "metadata": {},
   "outputs": [
    {
     "name": "stdout",
     "output_type": "stream",
     "text": [
      "elu: f(-1.0) = -0.006321205588285576\n"
     ]
    },
    {
     "data": {
      "text/plain": [
       "-0.01"
      ]
     },
     "execution_count": 16,
     "metadata": {},
     "output_type": "execute_result"
    }
   ],
   "source": [
    "exercise2(x=-1, activation_function=\"elu\")\n",
    "round(-0.006321205588285576, 2)"
   ]
  },
  {
   "cell_type": "code",
   "execution_count": 18,
   "metadata": {},
   "outputs": [
    {
     "name": "stdout",
     "output_type": "stream",
     "text": [
      "sigmoid: f(3.0) = 0.9525741268224334\n"
     ]
    },
    {
     "data": {
      "text/plain": [
       "0.95"
      ]
     },
     "execution_count": 18,
     "metadata": {},
     "output_type": "execute_result"
    }
   ],
   "source": [
    "exercise2(x=3, activation_function=\"sigmoid\")\n",
    "round(0.9525741268224334, 2)"
   ]
  },
  {
   "cell_type": "code",
   "execution_count": 19,
   "metadata": {},
   "outputs": [
    {
     "name": "stdout",
     "output_type": "stream",
     "text": [
      "loss name: mae, sample: 0, predicted: 4.84110592596522, target: 2.460833444313449, loss: 2.3802724816517706\n",
      "loss name: mae, sample: 1, predicted: 3.6323979926684604, target: 0.13332630203179985, loss: 3.4990716906366606\n",
      "loss name: mae, sample: 2, predicted: 8.994503729165492, target: 7.4859352212673915, loss: 1.5085685078981008\n",
      "loss name: mae, sample: 3, predicted: 2.1270499396585296, target: 9.382293450671188, loss: 7.255243511012658\n",
      "loss name: mae, sample: 4, predicted: 8.023588931699884, target: 6.862294008507721, loss: 1.1612949231921625\n"
     ]
    }
   ],
   "source": [
    "exercise3(num_samples=\"5\", loss_name=\"mae\")"
   ]
  },
  {
   "cell_type": "code",
   "execution_count": 24,
   "metadata": {},
   "outputs": [
    {
     "data": {
      "text/plain": [
       "-1.0"
      ]
     },
     "execution_count": 24,
     "metadata": {},
     "output_type": "execute_result"
    }
   ],
   "source": [
    "round(approx_cos(x=3.14, number_samples=10), 2)"
   ]
  },
  {
   "cell_type": "code",
   "execution_count": 26,
   "metadata": {},
   "outputs": [
    {
     "data": {
      "text/plain": [
       "0.0016"
      ]
     },
     "execution_count": 26,
     "metadata": {},
     "output_type": "execute_result"
    }
   ],
   "source": [
    "round(approx_sin(x=3.14, number_samples=10), 4)"
   ]
  },
  {
   "cell_type": "code",
   "execution_count": 28,
   "metadata": {},
   "outputs": [
    {
     "data": {
      "text/plain": [
       "11.53"
      ]
     },
     "execution_count": 28,
     "metadata": {},
     "output_type": "execute_result"
    }
   ],
   "source": [
    "round(approx_sinh(x=3.14, number_samples=10), 2)"
   ]
  },
  {
   "cell_type": "code",
   "execution_count": 29,
   "metadata": {},
   "outputs": [
    {
     "data": {
      "text/plain": [
       "11.57"
      ]
     },
     "execution_count": 29,
     "metadata": {},
     "output_type": "execute_result"
    }
   ],
   "source": [
    "round(approx_cosh(x=3.14, number_samples=10), 2)"
   ]
  }
 ],
 "metadata": {
  "kernelspec": {
   "display_name": "base",
   "language": "python",
   "name": "python3"
  },
  "language_info": {
   "codemirror_mode": {
    "name": "ipython",
    "version": 3
   },
   "file_extension": ".py",
   "mimetype": "text/x-python",
   "name": "python",
   "nbconvert_exporter": "python",
   "pygments_lexer": "ipython3",
   "version": "3.12.3"
  }
 },
 "nbformat": 4,
 "nbformat_minor": 2
}
